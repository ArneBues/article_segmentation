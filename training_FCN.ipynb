{
  "cells": [
    {
      "cell_type": "markdown",
      "metadata": {},
      "source": [
        "# FCN\n",
        "Trains the fully convolutional Network used to create the foreground mask.  \n",
        "Network is based on U-Net\n",
        "\n",
        "### Location of images:\n",
        "    config.IMAGE_PATH\n",
        "### XML file used to label the images (labeling done with CVAT and labes exported as '')\n",
        "    config.ANNOTATION_FILE_FCN\n",
        "### Batchsize used during the training of the FCN\n",
        "    config.BATCH_SIZE_FCN = 10\n",
        "### Epoches of the Training\n",
        "    config.EPOCHES_FCN = 50\n",
        "\n",
        "Final model is saved in ../models/mask.pth\n"
      ]
    },
    {
      "cell_type": "code",
      "execution_count": null,
      "metadata": {},
      "outputs": [],
      "source": [
        "%load_ext autoreload\n",
        "%autoreload 2"
      ]
    },
    {
      "cell_type": "code",
      "execution_count": null,
      "metadata": {
        "id": "zcrrxB4J7bm7"
      },
      "outputs": [],
      "source": [
        "from Training.FCN.label import Label\n",
        "from Training.FCN.dataLoader import MaskDataset\n",
        "from Training.FCN.unet import UNet\n",
        "\n",
        "\n",
        "import matplotlib\n",
        "import matplotlib.pyplot as plt\n",
        "import matplotlib.patches as mpatches\n",
        "import matplotlib.image as pltimage\n",
        "from PIL import Image\n",
        "import config\n",
        "\n",
        "from torch import optim\n",
        "import torch.nn as nn\n",
        "import torchvision.transforms as transforms\n",
        "import torch\n"
      ]
    },
    {
      "cell_type": "code",
      "execution_count": null,
      "metadata": {
        "id": "Cl1NyipH7bm8"
      },
      "outputs": [],
      "source": [
        "data = Label(config.ANNOTATION_FILE_FCN, 0.3, (256, 256))"
      ]
    },
    {
      "cell_type": "code",
      "execution_count": null,
      "metadata": {
        "colab": {
          "base_uri": "https://localhost:8080/",
          "height": 286
        },
        "id": "dyjlfKGn7bm9",
        "outputId": "48c2074d-a505-4758-8e18-b0b3b734b459"
      },
      "outputs": [],
      "source": [
        "h = data.annotations[6]\n",
        "print(len(data.annotations))\n",
        "test = h['mask']\n",
        "plt.imshow(test)\n",
        "plt.show\n"
      ]
    },
    {
      "cell_type": "code",
      "execution_count": null,
      "metadata": {
        "colab": {
          "base_uri": "https://localhost:8080/",
          "height": 286
        },
        "id": "ZqF7eppx7bm-",
        "outputId": "f5dcc4f1-0894-4483-e7b4-1a56f788d798"
      },
      "outputs": [],
      "source": [
        "c = Image.open(config.IMAGE_PATH + \"/\" + h['file'])\n",
        "plt.imshow(c)\n",
        "plt.show"
      ]
    },
    {
      "cell_type": "code",
      "execution_count": null,
      "metadata": {
        "colab": {
          "base_uri": "https://localhost:8080/"
        },
        "id": "zQ_g1nVY7bm_",
        "outputId": "cf0c08ca-189c-4540-f71b-f7e207fc46c8"
      },
      "outputs": [],
      "source": [
        "if config.DEVICE == 'cuda':\n",
        "    print('Loading Model on GPU')\n",
        "    cnn = UNet(n_channels=3, n_classes=1, bilinear=False).cuda()\n",
        "else:\n",
        "    print('Loading Model on CPU')\n",
        "    cnn = UNet(n_channels=3, n_classes=1, bilinear=False)"
      ]
    },
    {
      "cell_type": "code",
      "execution_count": null,
      "metadata": {
        "colab": {
          "base_uri": "https://localhost:8080/",
          "height": 1000
        },
        "id": "lzMBbhJK7bnB",
        "outputId": "d0558030-cc1a-4f02-d6d7-f2c49efa34aa"
      },
      "outputs": [],
      "source": [
        "criterion = nn.BCELoss()\n",
        "optimizer = optim.Adam(cnn.parameters(),lr = 0.001 )\n",
        "\n",
        "counter = []\n",
        "loss_history = [] \n",
        "iteration_number= 0\n",
        "\n",
        "dataset = MaskDataset(data.annotations, transforms.Compose([transforms.Resize([256, 256]), transforms.ToTensor()]))\n",
        "\n",
        "\n",
        "train_loader = torch.utils.data.DataLoader(dataset=dataset,\n",
        "                                               batch_size=config.BATCH_SIZE_FCN,\n",
        "                                               shuffle=False)\n",
        "\n",
        "first =True\n",
        "for epoch in range(0,config.EPOCHES_FCN):\n",
        "    print('EPOCH:', epoch)\n",
        "    z = 0\n",
        "    for i, (img1_set, label, _) in enumerate(train_loader):\n",
        "        # Display first image\n",
        "        if first:\n",
        "            plt.imshow(img1_set[0].swapaxes(0,1).swapaxes(1,2))\n",
        "            plt.show()\n",
        "            plt.imshow(label[0][0])\n",
        "            plt.show()\n",
        "            first = False\n",
        "        z = z + 1\n",
        "        \n",
        "        # load images to GPU\n",
        "        if config.DEVICE == \"cuda\":\n",
        "            img1_set = img1_set.cuda()\n",
        "            label = label.cuda()\n",
        "\n",
        "        optimizer.zero_grad()\n",
        "        # Feed Forward\n",
        "        output1 = cnn(img1_set)\n",
        "        # calculate Loss\n",
        "        loss = criterion(output1, label.float())\n",
        "        \n",
        "        #back propagation\n",
        "        loss.backward()\n",
        "        \n",
        "        optimizer.step()\n",
        "        \n",
        "        # Show progress every 10 Batches\n",
        "        if z %10 == 0 :\n",
        "            print(\"Epoch number {}\\n Current loss {}\\n\".format(epoch,loss.item()))\n",
        "            iteration_number +=10 * config.BATCH_SIZE_FCN\n",
        "            counter.append(iteration_number)\n",
        "            loss_history.append(loss.item())\n",
        "        "
      ]
    },
    {
      "cell_type": "code",
      "execution_count": null,
      "metadata": {
        "colab": {
          "base_uri": "https://localhost:8080/",
          "height": 265
        },
        "id": "ovZs9JM_MCaC",
        "outputId": "93408983-f247-4762-fe28-f883bc1ce36e"
      },
      "outputs": [],
      "source": [
        "def show_plot(iteration,loss):\n",
        "    plt.plot(iteration,loss)\n",
        "    plt.show()\n",
        "\n",
        "show_plot(counter,loss_history)"
      ]
    },
    {
      "cell_type": "code",
      "execution_count": null,
      "metadata": {
        "id": "Dyot2yPks_W-"
      },
      "outputs": [],
      "source": [
        "# Save Model\n",
        "torch.save(cnn.state_dict(), '../models/mask.pth')"
      ]
    }
  ],
  "metadata": {
    "accelerator": "GPU",
    "colab": {
      "collapsed_sections": [],
      "machine_shape": "hm",
      "name": "Mask",
      "provenance": []
    },
    "kernelspec": {
      "display_name": "Python 3.9.6 64-bit",
      "language": "python",
      "name": "python3"
    },
    "language_info": {
      "codemirror_mode": {
        "name": "ipython",
        "version": 3
      },
      "file_extension": ".py",
      "mimetype": "text/x-python",
      "name": "python",
      "nbconvert_exporter": "python",
      "pygments_lexer": "ipython3",
      "version": "3.9.6"
    },
    "vscode": {
      "interpreter": {
        "hash": "11938c6bc6919ae2720b4d5011047913343b08a43b18698fd82dedb0d4417594"
      }
    }
  },
  "nbformat": 4,
  "nbformat_minor": 0
}
