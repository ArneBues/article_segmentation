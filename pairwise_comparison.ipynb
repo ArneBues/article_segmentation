{
 "cells": [
  {
   "cell_type": "code",
   "execution_count": null,
   "metadata": {},
   "outputs": [],
   "source": [
    "from Training.SNN.labelHelper import LabelHelper\n",
    "from Training.SNN.patchHelper import PatchHelper\n",
    "from Training.SNN.patchLoader import PatchLoader\n",
    "from shapely import geometry as SH\n",
    "import random\n",
    "import config\n",
    "\n",
    "import matplotlib\n",
    "import matplotlib.pyplot as plt\n",
    "import matplotlib.patches as mpatches\n",
    "import matplotlib.image as pltimage\n",
    "import threading\n",
    "from PIL import Image\n",
    "\n",
    "from Training.SNN.model import Network, NetworkResnet, ContrastiveLoss, DataLoaderDynamic, DataLoaderClustering\n",
    "import torchvision\n",
    "import torchvision.datasets as dset\n",
    "import torchvision.transforms as transforms\n",
    "from torch.utils.data import DataLoader,Dataset\n",
    "import matplotlib.pyplot as plt\n",
    "import torchvision.utils\n",
    "import numpy as np\n",
    "import random\n",
    "from PIL import Image\n",
    "import torch\n",
    "from torch.autograd import Variable\n",
    "import PIL.ImageOps    \n",
    "import torch.nn as nn\n",
    "from torch import optim\n",
    "import torch.nn.functional as F"
   ]
  },
  {
   "cell_type": "code",
   "execution_count": null,
   "metadata": {
    "colab": {
     "base_uri": "https://localhost:8080/"
    },
    "id": "RMpHUh-X7bnE",
    "outputId": "0b891725-ca01-45b3-8b51-03245d316d0c"
   },
   "outputs": [],
   "source": [
    "# evalulate against a evalutation dataset\n",
    "config.ANNOTATION_FILE = \"./labels/val_cluster.xml\"\n",
    "data = []\n",
    "\n",
    "if config.DEVICE == \"cuda\":\n",
    "    cnn = NetworkResnet().cuda()\n",
    "    test = torch.load(config.MODEL,map_location=torch.device('cuda'))\n",
    "else:\n",
    "    cnn = NetworkResnet()\n",
    "    test = torch.load(config.MODEL,map_location=torch.device('cpu'))\n",
    "\n",
    "print(cnn.load_state_dict(test))\n",
    "cnn.eval()\n",
    "\n",
    "\n"
   ]
  },
  {
   "cell_type": "code",
   "execution_count": null,
   "metadata": {
    "id": "MR9absjKCqHY"
   },
   "outputs": [],
   "source": [
    "\n",
    "\n",
    "labelHelper = LabelHelper(config.ANNOTATION_FILE, resize=0.1)\n",
    "\n",
    "patchLoader = PatchLoader(labelHelper, superPixelSize= [25, 25], patchSize=6)\n",
    "count = 0\n",
    "for i in patchLoader:\n",
    "      data = data + i['combinations']\n",
    "      #showImageWithLabelAndSP(i, patchLoader, 200)\n",
    "\n"
   ]
  },
  {
   "cell_type": "code",
   "execution_count": null,
   "metadata": {
    "colab": {
     "base_uri": "https://localhost:8080/"
    },
    "id": "ogf7sJGVVccB",
    "outputId": "2869c3f7-f6ee-432f-d3f0-70c4fb86a5ef"
   },
   "outputs": [],
   "source": [
    "\n",
    "convert_tensor = transforms.Compose(\n",
    "            [transforms.ToTensor(),\n",
    "             transforms.Normalize((0.5, 0.5, 0.5), (0.5, 0.5, 0.5))])\n",
    "\n",
    "\n",
    "test_dataset = DataLoaderDynamic(data, convert_tensor)\n",
    "\n",
    "test_loader = torch.utils.data.DataLoader(dataset=test_dataset, pin_memory=True, num_workers=4)\n",
    "\n",
    "print(len(data))"
   ]
  },
  {
   "cell_type": "code",
   "execution_count": null,
   "metadata": {
    "colab": {
     "base_uri": "https://localhost:8080/"
    },
    "id": "gHdQW_fO7bnF",
    "outputId": "80251db4-82a2-4cef-f4d5-17b2ec0b1ebf"
   },
   "outputs": [],
   "source": [
    "import uuid\n",
    "def show_image(i1, i2, label, e, save=False):\n",
    "    fig = plt.figure(figsize=(2, 1), dpi=300)\n",
    "    plt.axis('off')\n",
    "    plt.title(\"Label:\" + str(label.item()) + \" Guess: \" + str(e.item())[:5])\n",
    "    fig.add_subplot(1,2, 1)\n",
    "    plt.axis('off')\n",
    "    plt.imshow(i1[0].permute(1,2,0).numpy()) \n",
    "    fig.add_subplot(1,2, 2)\n",
    "    plt.axis('off')\n",
    "    plt.imshow(i2[0].permute(1,2,0).numpy())\n",
    "    if save:\n",
    "        fig.savefig('./incorrect/' + str(uuid.uuid4()) + \".png\",dpi=300, bbox_inches = \"tight\")\n",
    "    else: \n",
    "        plt.show()\n",
    "\n",
    "checkImages = []\n",
    "\n",
    "total = 0\n",
    "correcta = 0\n",
    "correctb = 0\n",
    "incorrecta = 0\n",
    "incorrectb = 0\n",
    "\n",
    "t_correct = 0\n",
    "t_total = 0\n",
    "\n",
    "same_label  = []\n",
    "diff_label = []\n",
    "lastfile = (\"\",)\n",
    "\n",
    "margin = 2\n",
    "\n",
    "output_2 = {}\n",
    "\n",
    "for i1, ii1, i2, ii2, label, filename in test_loader:\n",
    "    t_total = t_total + 1\n",
    "    total = total + 1\n",
    "    if config.DEVICE == \"cuda\":\n",
    "        i1 = i1.cuda()\n",
    "        i2 = i2.cuda()\n",
    "        ii1 = ii1.cuda()\n",
    "        ii2 = ii2.cuda()\n",
    "        label = label.cuda()\n",
    "    output=cnn(i1, ii1, i2, ii2)\n",
    "    #print(output)\n",
    "    a=output[0]-output[1]\n",
    "    d=torch.sum(torch.pow(a,2),1)\n",
    "    e=torch.sqrt(d).cpu()\n",
    "\n",
    "    if not filename[0] in output_2:\n",
    "      output_2[filename[0]] = []\n",
    "\n",
    "    output_2[filename[0]].append({'label': label.item(), 'value': e.item()})\n",
    "    \n",
    "    \n",
    "    if label.item() == 0:\n",
    "        same_label.append(e.item())\n",
    "    else:\n",
    "        diff_label.append(e.item())\n",
    "\n",
    "    if label.item()==0 and e.item()<margin:\n",
    "        #show_image(i1.cpu(), i2.cpu(), label, e)\n",
    "        t_correct += 1\n",
    "        correcta += 1\n",
    "    elif label.item()!=0 and e.item()>=margin:\n",
    "        t_correct += 1\n",
    "        correctb += 1\n",
    "    elif label.item()==0 and e.item()>=margin:\n",
    "        if filename[0] in checkImages:\n",
    "            show_image(i1.cpu(), i2.cpu(), label, e)\n",
    "        incorrecta += 1\n",
    "    else:        \n",
    "        if filename[0] in checkImages:\n",
    "            show_image(i1.cpu(), i2.cpu(), label, e)\n",
    "        incorrectb += 1\n",
    "\n",
    "    if lastfile != filename:\n",
    "        print(lastfile[0] + \" Total: \" + str(total) + \" Correct A: \" + str(correcta) + \" Correct B: \" + str(correctb) + \" Incorrect A: \" + str(incorrecta) + \" Incorrect B: \" + str(incorrectb) + \" Percentage: \" + str(((correcta + correctb)/total)*100) + \"%\")\n",
    "        total = 0\n",
    "        correcta = 0\n",
    "        correctb = 0\n",
    "        incorrecta = 0\n",
    "        incorrectb = 0\n",
    "        lastfile = filename\n",
    "\n",
    "\n",
    "print(lastfile[0] + \" Total: \" + str(total) + \" Correct A: \" + str(correcta) + \" Correct B: \" + str(correctb) + \" Incorrect A: \" + str(incorrecta) + \" Incorrect B: \" + str(incorrectb) + \" Percentage: \" + str(((correcta + correctb)/total)*100) + \"%\")\n"
   ]
  },
  {
   "cell_type": "code",
   "execution_count": null,
   "metadata": {
    "colab": {
     "base_uri": "https://localhost:8080/"
    },
    "id": "h6ILXsTm7bnF",
    "outputId": "8568bdc6-714c-45e4-a643-3db293a89275"
   },
   "outputs": [],
   "source": [
    "from statistics import mean, median\n",
    "\n",
    "print(median(diff_label))\n",
    "print(mean(diff_label))\n",
    "print(min(diff_label), max(diff_label))\n",
    "print(median(same_label))\n",
    "print(mean(same_label))\n",
    "print(min(same_label), max(same_label))\n",
    "\n",
    "print(len(diff_label))\n",
    "print(len(same_label))\n",
    "\n",
    "print(t_total, t_correct, (t_correct/t_total) * 100)"
   ]
  },
  {
   "cell_type": "code",
   "execution_count": null,
   "metadata": {
    "id": "NistPBSDy5va"
   },
   "outputs": [],
   "source": [
    "# export results for later use in evaluate_SNN.ipynb\n",
    "\n",
    "with open('./results/pairwise.txt', 'x') as f:\n",
    "    f.write(str(output_2))"
   ]
  },
  {
   "cell_type": "code",
   "execution_count": null,
   "metadata": {
    "colab": {
     "background_save": true,
     "base_uri": "https://localhost:8080/",
     "height": 391
    },
    "id": "McjxMhs47bnF",
    "outputId": "04edbcc6-6ebc-40c9-bd89-b4bcaa627ad3"
   },
   "outputs": [],
   "source": [
    "fig = plt.figure(figsize =(5, 4))\n",
    "\n",
    "\n",
    "ax = fig.add_axes([0, 0, 1, 1])\n",
    "# Creating plot\n",
    "ax.boxplot([diff_label, same_label])\n",
    " \n",
    " \n",
    "# show plot\n",
    "plt.show()"
   ]
  }
 ],
 "metadata": {
  "kernelspec": {
   "display_name": "Python 3.9.6 64-bit",
   "language": "python",
   "name": "python3"
  },
  "language_info": {
   "codemirror_mode": {
    "name": "ipython",
    "version": 3
   },
   "file_extension": ".py",
   "mimetype": "text/x-python",
   "name": "python",
   "nbconvert_exporter": "python",
   "pygments_lexer": "ipython3",
   "version": "3.9.6"
  },
  "orig_nbformat": 4,
  "vscode": {
   "interpreter": {
    "hash": "11938c6bc6919ae2720b4d5011047913343b08a43b18698fd82dedb0d4417594"
   }
  }
 },
 "nbformat": 4,
 "nbformat_minor": 2
}
