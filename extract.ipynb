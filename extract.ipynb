{
 "cells": [
  {
   "cell_type": "code",
   "execution_count": null,
   "metadata": {},
   "outputs": [],
   "source": [
    "%load_ext autoreload\n",
    "%autoreload 2"
   ]
  },
  {
   "cell_type": "code",
   "execution_count": null,
   "metadata": {},
   "outputs": [],
   "source": [
    "import glob\n",
    "import os\n",
    "\n",
    "import numpy as np\n",
    "import scipy.ndimage as nd\n",
    "import skimage\n",
    "import torch\n",
    "import torch.nn as nn\n",
    "import torchvision.transforms as transforms\n",
    "from matplotlib import pyplot as plt\n",
    "from skimage import measure, segmentation\n",
    "from skimage.draw import polygon, rectangle\n",
    "from skimage.transform import resize\n",
    "import os\n",
    "import pickle\n",
    "\n",
    "\n",
    "import config\n",
    "import Extraction.mask.maskHelper as mh\n",
    "from Extraction.clustering import run_clustering\n",
    "from Training.SNN.model import DataLoaderClustering, Network, NetworkResnet\n",
    "from Training.SNN.pageHandler import PageHandler, Pixel\n",
    "from Training.FCN.unet import UNet\n",
    "from Extraction.page import Page"
   ]
  },
  {
   "cell_type": "code",
   "execution_count": null,
   "metadata": {},
   "outputs": [],
   "source": [
    "# Load Pages\n",
    "config.IMAGE_PATH = \"F:\\\\Code\\\\Final\\\\data\\\\\"\n",
    "config.CLUSTERING_MODEL = \"F:\\\\Code\\\\Final\\\\models\\\\resnet_time_4passes_complete.pth\"\n",
    "config.MASK_MODEL = \"F:\\\\Code\\\\Final\\\\models\\\\mask_time_real.pth\"\n",
    "config.DEVICE = 'cuda'\n",
    "\n"
   ]
  },
  {
   "cell_type": "code",
   "execution_count": null,
   "metadata": {},
   "outputs": [],
   "source": [
    "import xml.etree.ElementTree as ET\n",
    "xmlTree = ET.parse('F:\\\\Code\\\\Final\\\\models\\\\val.xml')\n",
    "root = xmlTree.getroot()\n",
    "\n",
    "images = root.findall('image')\n",
    "\n",
    "pages = []\n",
    "for e in images:\n",
    "  pages.append(Page(e.attrib['name']))"
   ]
  },
  {
   "cell_type": "code",
   "execution_count": null,
   "metadata": {},
   "outputs": [],
   "source": [
    "len(pages)"
   ]
  },
  {
   "cell_type": "code",
   "execution_count": null,
   "metadata": {},
   "outputs": [],
   "source": [
    "# Installation of CUDA:\n",
    "# https://pytorch.org/get-started/locally/\n",
    "config.DEVICE = \"cuda\"\n",
    "if config.DEVICE == \"cuda\":\n",
    "    print('est')\n",
    "    cluster_network = NetworkResnet(img_size=config.PATCH_SIZE).cuda()\n",
    "    cluster_model = torch.load(config.CLUSTERING_MODEL,map_location=torch.device('cuda'))\n",
    "    \n",
    "    mask_network = UNet(n_channels=3, n_classes=1, bilinear=False).cuda()\n",
    "    mask_model = torch.load(config.MASK_MODEL,map_location=torch.device('cuda'))\n",
    "else:\n",
    "    cluster_network = NetworkResnet(img_size=config.PATCH_SIZE)\n",
    "    cluster_model = torch.load(config.CLUSTERING_MODEL,map_location=torch.device('cpu'))\n",
    "    \n",
    "    mask_network = UNet(n_channels=3, n_classes=1, bilinear=False)\n",
    "    mask_model = torch.load(config.MASK_MODEL,map_location=torch.device('cpu'))\n",
    "\n"
   ]
  },
  {
   "cell_type": "code",
   "execution_count": null,
   "metadata": {},
   "outputs": [],
   "source": [
    "torch.cuda.empty_cache()\n",
    "\n",
    "cluster_network.eval()\n",
    "mask_network.eval()"
   ]
  },
  {
   "cell_type": "code",
   "execution_count": null,
   "metadata": {},
   "outputs": [],
   "source": [
    "cluster_network.load_state_dict(cluster_model)\n",
    "mask_network.load_state_dict(mask_model)\n",
    "\n",
    "convert_cluster = transforms.Compose(\n",
    "            [transforms.ToTensor(),\n",
    "             transforms.Normalize((0.5, 0.5, 0.5), (0.5, 0.5, 0.5))])\n",
    "\n",
    "convert_mask = transforms.Compose([transforms.Resize([256, 256]), transforms.ToTensor()])\n",
    "outfolder = 'results/'\n",
    "\n",
    "for page in pages:\n",
    "        patchHelper = page.patchHelper\n",
    "        patchHelper.generateAllPatches()\n",
    "        \n",
    "        # Calculate Foreground/Background Mask\n",
    "        mask, _ = mh.run_mask_network(page, mask_network, convert_mask)\n",
    "\n",
    "        # Calculate Clusters\n",
    "        clusters = run_clustering(page, patchHelper.patches, cluster_network, convert_cluster)\n",
    "        \n",
    "        # store results of clustering\n",
    "        file = open(outfolder + page.file + \".cluster\", 'wb')\n",
    "        pickle.dump(clusters, file)\n",
    "        file.close()\n",
    "  \n",
    "        #Show Clustering result\n",
    "        clustering = resize(clusters, (page.image.size[1], page.image.size[0]), order = 0)\n",
    "        #plt.imshow(clustering)\n",
    "        #plt.show()\n",
    "\n",
    "        #free memory\n",
    "        del patchHelper.patches\n",
    "        \n",
    "        page.pageHandler.add_clustering(clusters)\n",
    "        \n",
    "        #mh.test(patchHelper, page, np.array(clusters).flatten(), mask=None)\n",
    "        \n",
    "        # Show Mask Result\n",
    "        #plt.imshow(mask)\n",
    "        #plt.show()\n",
    "        \n",
    "        # Erode Mask and Fill Holes\n",
    "        mask = mh.fix_mask(mask, page.image_size, erode = 3)\n",
    "        page.pageHandler.add_mask(mask)\n",
    "        \n",
    "        \n",
    "        #mh.test(patchHelper, page, np.array(clusters).flatten(), mask)\n",
    "        # Mask after Processing\n",
    "        #plt.imshow(mask)\n",
    "        #plt.show()\n",
    "        \n",
    "        # Assign clusters to mask and expand mask\n",
    "        # Clustering First\n",
    "        final_mask = mh.combine_cluster_mask(page, mask)\n",
    "        \n",
    "        page.pageHandler.add_final_segments(final_mask)\n",
    "        \n",
    "        #plt.rcParams[\"figure.figsize\"] = (20,20)\n",
    "        #plt.imshow(page.image)\n",
    "        #plt.imshow(final_mask, cmap='jet', alpha=0.7)\n",
    "        #plt.axis(\"off\")\n",
    "        #plt.show()\n",
    "        #plt.savefig(outfolder +'/' + page.file)\n",
    "        #plt.clf()\n",
    "        #np.save(outfolder +'/' + page.file + '', final_mask)\n",
    "        \n",
    "        # Store result of combination\n",
    "        file = open(outfolder + page.file + \".full\", 'wb')\n",
    "        pickle.dump(final_mask, file)\n",
    "        file.close()\n"
   ]
  }
 ],
 "metadata": {
  "kernelspec": {
   "display_name": "Python 3.9.12 ('base')",
   "language": "python",
   "name": "python3"
  },
  "language_info": {
   "codemirror_mode": {
    "name": "ipython",
    "version": 3
   },
   "file_extension": ".py",
   "mimetype": "text/x-python",
   "name": "python",
   "nbconvert_exporter": "python",
   "pygments_lexer": "ipython3",
   "version": "3.9.12"
  },
  "orig_nbformat": 4,
  "vscode": {
   "interpreter": {
    "hash": "3d35cbf0b76dd0c44eed4cfa4b51dfb920846f5717a40275819c5f3242edc8f2"
   }
  }
 },
 "nbformat": 4,
 "nbformat_minor": 2
}
